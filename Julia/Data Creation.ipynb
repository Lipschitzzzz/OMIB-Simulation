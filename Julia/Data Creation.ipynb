{
 "cells": [
  {
   "cell_type": "code",
   "execution_count": 1,
   "id": "cd0fdea2",
   "metadata": {},
   "outputs": [
    {
     "data": {
      "text/plain": [
       "PowerSystems"
      ]
     },
     "execution_count": 1,
     "metadata": {},
     "output_type": "execute_result"
    }
   ],
   "source": [
    "using SIIPExamples\n",
    "using PowerSystems\n",
    "const PSY = PowerSystems"
   ]
  },
  {
   "cell_type": "code",
   "execution_count": 2,
   "id": "fcdeebd8",
   "metadata": {},
   "outputs": [
    {
     "name": "stderr",
     "output_type": "stream",
     "text": [
      "┌ Info: The PSS(R)E parser currently supports buses, loads, shunts, generators, branches, transformers, and dc lines\n",
      "└ @ PowerSystems C:\\Users\\ALIENWARE\\.julia\\packages\\PowerSystems\\QT2dm\\src\\parsers\\pm_io\\common.jl:25\n",
      "┌ Info: The PSS(R)E parser currently supports buses, loads, shunts, generators, branches, transformers, and dc lines\n",
      "└ @ PowerSystems C:\\Users\\ALIENWARE\\.julia\\packages\\PowerSystems\\QT2dm\\src\\parsers\\pm_io\\psse.jl:1063\n",
      "┌ Info: angmin and angmax values are 0, widening these values on branch 1 to +/- 60.0 deg.\n",
      "└ @ PowerSystems C:\\Users\\ALIENWARE\\.julia\\packages\\PowerSystems\\QT2dm\\src\\parsers\\pm_io\\data.jl:1077\n",
      "┌ Info: angmin and angmax values are 0, widening these values on branch 2 to +/- 60.0 deg.\n",
      "└ @ PowerSystems C:\\Users\\ALIENWARE\\.julia\\packages\\PowerSystems\\QT2dm\\src\\parsers\\pm_io\\data.jl:1077\n",
      "┌ Info: the voltage setpoint on generator 1 does not match the value at bus 102\n",
      "└ @ PowerSystems C:\\Users\\ALIENWARE\\.julia\\packages\\PowerSystems\\QT2dm\\src\\parsers\\pm_io\\data.jl:1796\n",
      "┌ Info: Constructing System from Power Models\n",
      "│   data[\"name\"] = omib\n",
      "│   data[\"source_type\"] = pti\n",
      "└ @ PowerSystems C:\\Users\\ALIENWARE\\.julia\\packages\\PowerSystems\\QT2dm\\src\\parsers\\power_models_data.jl:52\n",
      "┌ Info: Reading bus data\n",
      "└ @ PowerSystems C:\\Users\\ALIENWARE\\.julia\\packages\\PowerSystems\\QT2dm\\src\\parsers\\power_models_data.jl:183\n",
      "┌ Info: Reading generator data\n",
      "└ @ PowerSystems C:\\Users\\ALIENWARE\\.julia\\packages\\PowerSystems\\QT2dm\\src\\parsers\\power_models_data.jl:497\n",
      "┌ Info: Reading branch data\n",
      "└ @ PowerSystems C:\\Users\\ALIENWARE\\.julia\\packages\\PowerSystems\\QT2dm\\src\\parsers\\power_models_data.jl:641\n",
      "┌ Info: Reading branch data\n",
      "└ @ PowerSystems C:\\Users\\ALIENWARE\\.julia\\packages\\PowerSystems\\QT2dm\\src\\parsers\\power_models_data.jl:702\n",
      "┌ Info: Reading DC Line data\n",
      "└ @ PowerSystems C:\\Users\\ALIENWARE\\.julia\\packages\\PowerSystems\\QT2dm\\src\\parsers\\power_models_data.jl:674\n",
      "┌ Info: Reading storage data\n",
      "└ @ PowerSystems C:\\Users\\ALIENWARE\\.julia\\packages\\PowerSystems\\QT2dm\\src\\parsers\\power_models_data.jl:721\n",
      "┌ Warning: There are no ElectricLoad Components in the System\n",
      "└ @ PowerSystems C:\\Users\\ALIENWARE\\.julia\\packages\\PowerSystems\\QT2dm\\src\\utils\\IO\\system_checks.jl:59\n"
     ]
    },
    {
     "data": {
      "text/html": [
       "<table>\n",
       "  <caption style = \"text-align: left;\">System</caption>\n",
       "  <thead>\n",
       "    <tr class = \"header headerLastRow\">\n",
       "      <th style = \"text-align: left;\">Property</th>\n",
       "      <th style = \"text-align: left;\">Value</th>\n",
       "    </tr>\n",
       "  </thead>\n",
       "  <tbody>\n",
       "    <tr>\n",
       "      <td style = \"text-align: left;\">System Units Base</td>\n",
       "      <td style = \"text-align: left;\">SYSTEM_BASE</td>\n",
       "    </tr>\n",
       "    <tr>\n",
       "      <td style = \"text-align: left;\">Base Power</td>\n",
       "      <td style = \"text-align: left;\">100.0</td>\n",
       "    </tr>\n",
       "    <tr>\n",
       "      <td style = \"text-align: left;\">Base Frequency</td>\n",
       "      <td style = \"text-align: left;\">60.0</td>\n",
       "    </tr>\n",
       "    <tr>\n",
       "      <td style = \"text-align: left;\">Num Components</td>\n",
       "      <td style = \"text-align: left;\">8</td>\n",
       "    </tr>\n",
       "  </tbody>\n",
       "</table>\n",
       "\n",
       "<table>\n",
       "  <caption style = \"text-align: left;\">Static Components</caption>\n",
       "  <thead>\n",
       "    <tr class = \"header headerLastRow\">\n",
       "      <th style = \"text-align: left;\">Type</th>\n",
       "      <th style = \"text-align: left;\">Count</th>\n",
       "      <th style = \"text-align: left;\">Has Static Time Series</th>\n",
       "      <th style = \"text-align: left;\">Has Forecasts</th>\n",
       "    </tr>\n",
       "  </thead>\n",
       "  <tbody>\n",
       "    <tr>\n",
       "      <td style = \"text-align: left;\">Arc</td>\n",
       "      <td style = \"text-align: left;\">1</td>\n",
       "      <td style = \"text-align: left;\">false</td>\n",
       "      <td style = \"text-align: left;\">false</td>\n",
       "    </tr>\n",
       "    <tr>\n",
       "      <td style = \"text-align: left;\">Area</td>\n",
       "      <td style = \"text-align: left;\">1</td>\n",
       "      <td style = \"text-align: left;\">false</td>\n",
       "      <td style = \"text-align: left;\">false</td>\n",
       "    </tr>\n",
       "    <tr>\n",
       "      <td style = \"text-align: left;\">Bus</td>\n",
       "      <td style = \"text-align: left;\">2</td>\n",
       "      <td style = \"text-align: left;\">false</td>\n",
       "      <td style = \"text-align: left;\">false</td>\n",
       "    </tr>\n",
       "    <tr>\n",
       "      <td style = \"text-align: left;\">Line</td>\n",
       "      <td style = \"text-align: left;\">2</td>\n",
       "      <td style = \"text-align: left;\">false</td>\n",
       "      <td style = \"text-align: left;\">false</td>\n",
       "    </tr>\n",
       "    <tr>\n",
       "      <td style = \"text-align: left;\">LoadZone</td>\n",
       "      <td style = \"text-align: left;\">1</td>\n",
       "      <td style = \"text-align: left;\">false</td>\n",
       "      <td style = \"text-align: left;\">false</td>\n",
       "    </tr>\n",
       "    <tr>\n",
       "      <td style = \"text-align: left;\">ThermalStandard</td>\n",
       "      <td style = \"text-align: left;\">1</td>\n",
       "      <td style = \"text-align: left;\">false</td>\n",
       "      <td style = \"text-align: left;\">false</td>\n",
       "    </tr>\n",
       "  </tbody>\n",
       "</table>\n",
       "\n"
      ],
      "text/plain": [
       "\u001b[1mSystem\u001b[0m\n",
       "┌───────────────────┬─────────────┐\n",
       "│\u001b[1m Property          \u001b[0m│\u001b[1m Value       \u001b[0m│\n",
       "├───────────────────┼─────────────┤\n",
       "│ System Units Base │ SYSTEM_BASE │\n",
       "│ Base Power        │ 100.0       │\n",
       "│ Base Frequency    │ 60.0        │\n",
       "│ Num Components    │ 8           │\n",
       "└───────────────────┴─────────────┘\n",
       "\n",
       "\u001b[1mStatic Components\u001b[0m\n",
       "┌─────────────────┬───────┬────────────────────────┬───────────────┐\n",
       "│\u001b[1m Type            \u001b[0m│\u001b[1m Count \u001b[0m│\u001b[1m Has Static Time Series \u001b[0m│\u001b[1m Has Forecasts \u001b[0m│\n",
       "├─────────────────┼───────┼────────────────────────┼───────────────┤\n",
       "│ Arc             │ 1     │ false                  │ false         │\n",
       "│ Area            │ 1     │ false                  │ false         │\n",
       "│ Bus             │ 2     │ false                  │ false         │\n",
       "│ Line            │ 2     │ false                  │ false         │\n",
       "│ LoadZone        │ 1     │ false                  │ false         │\n",
       "│ ThermalStandard │ 1     │ false                  │ false         │\n",
       "└─────────────────┴───────┴────────────────────────┴───────────────┘\n",
       "\n"
      ]
     },
     "execution_count": 2,
     "metadata": {},
     "output_type": "execute_result"
    }
   ],
   "source": [
    "file_dir = joinpath(\n",
    "    dirname(dirname(pathof(SIIPExamples))),\n",
    "    \"script\",\n",
    "    \"4_PowerSimulationsDynamics_examples\",\n",
    "    \"Data\",\n",
    ")\n",
    "omib_sys = System(joinpath(file_dir, \"OMIB.raw\"))"
   ]
  },
  {
   "cell_type": "code",
   "execution_count": 3,
   "id": "d6d320b2",
   "metadata": {},
   "outputs": [],
   "source": [
    "slack_bus = [b for b in get_components(Bus, omib_sys) if b.bustype == BusTypes.REF][1]\n",
    "inf_source = Source(\n",
    "    name = \"InfBus\", #name\n",
    "    available = true, #availability\n",
    "    active_power = 0.0,\n",
    "    reactive_power = 0.0,\n",
    "    bus = slack_bus, #bus\n",
    "    R_th = 0.0, #Rth\n",
    "    X_th = 5e-6, #Xth\n",
    ")\n",
    "add_component!(omib_sys, inf_source)"
   ]
  },
  {
   "cell_type": "code",
   "execution_count": 4,
   "id": "ce3d382b",
   "metadata": {},
   "outputs": [
    {
     "data": {
      "text/plain": [
       "Generator Counts: \n",
       "ThermalStandard: 1\n"
      ]
     },
     "execution_count": 4,
     "metadata": {},
     "output_type": "execute_result"
    }
   ],
   "source": [
    "get_components(Source, omib_sys)\n",
    "\n",
    "get_components(Generator, omib_sys)"
   ]
  },
  {
   "cell_type": "code",
   "execution_count": 5,
   "id": "3e78d214",
   "metadata": {},
   "outputs": [
    {
     "data": {
      "text/plain": [
       "machine_classic (generic function with 1 method)"
      ]
     },
     "execution_count": 5,
     "metadata": {},
     "output_type": "execute_result"
    }
   ],
   "source": [
    "machine_classic() = BaseMachine(\n",
    "    0.0, #R\n",
    "    0.2995, #Xd_p\n",
    "    0.7087, #eq_p\n",
    ")"
   ]
  },
  {
   "cell_type": "code",
   "execution_count": 6,
   "id": "25594c77",
   "metadata": {},
   "outputs": [
    {
     "data": {
      "text/plain": [
       "shaft_damping (generic function with 1 method)"
      ]
     },
     "execution_count": 6,
     "metadata": {},
     "output_type": "execute_result"
    }
   ],
   "source": [
    "shaft_damping() = SingleMass(\n",
    "    3.148, #H\n",
    "    2.0, #D\n",
    ")"
   ]
  },
  {
   "cell_type": "code",
   "execution_count": 7,
   "id": "5deea0f4",
   "metadata": {},
   "outputs": [
    {
     "data": {
      "text/plain": [
       "avr_none (generic function with 1 method)"
      ]
     },
     "execution_count": 7,
     "metadata": {},
     "output_type": "execute_result"
    }
   ],
   "source": [
    "avr_none() = AVRFixed(0.0)"
   ]
  },
  {
   "cell_type": "code",
   "execution_count": 8,
   "id": "c447841b",
   "metadata": {},
   "outputs": [
    {
     "data": {
      "text/plain": [
       "tg_none (generic function with 1 method)"
      ]
     },
     "execution_count": 8,
     "metadata": {},
     "output_type": "execute_result"
    }
   ],
   "source": [
    "tg_none() = TGFixed(1.0) #efficiency"
   ]
  },
  {
   "cell_type": "code",
   "execution_count": 9,
   "id": "9b330d7f",
   "metadata": {},
   "outputs": [
    {
     "data": {
      "text/plain": [
       "pss_none (generic function with 1 method)"
      ]
     },
     "execution_count": 9,
     "metadata": {},
     "output_type": "execute_result"
    }
   ],
   "source": [
    "pss_none() = PSSFixed(0.0)"
   ]
  },
  {
   "cell_type": "code",
   "execution_count": 10,
   "id": "9d8a8c2e",
   "metadata": {},
   "outputs": [
    {
     "data": {
      "text/plain": [
       "\n",
       "generator-102-1 (DynamicGenerator{BaseMachine, SingleMass, AVRFixed, TGFixed, PSSFixed}):\n",
       "   name: generator-102-1\n",
       "   ω_ref: 1.0\n",
       "   machine: BaseMachine\n",
       "   shaft: SingleMass\n",
       "   avr: AVRFixed\n",
       "   prime_mover: TGFixed\n",
       "   pss: PSSFixed\n",
       "   base_power: 100.0\n",
       "   n_states: 2\n",
       "   states: [:δ, :ω]\n",
       "   ext: Dict{String, Any}()\n",
       "   internal: InfrastructureSystems.InfrastructureSystemsInternal"
      ]
     },
     "execution_count": 10,
     "metadata": {},
     "output_type": "execute_result"
    },
    {
     "name": "stderr",
     "output_type": "stream",
     "text": [
      "┌ Warning: SystemUnitSetting not defined, using NATURAL_UNITS for displaying device specification.\n",
      "└ @ PowerSystems C:\\Users\\ALIENWARE\\.julia\\packages\\PowerSystems\\QT2dm\\src\\utils\\print.jl:182\n"
     ]
    }
   ],
   "source": [
    "static_gen = get_component(Generator, omib_sys, \"generator-102-1\")\n",
    "\n",
    "dyn_gen = DynamicGenerator(\n",
    "    name = get_name(static_gen),\n",
    "    ω_ref = 1.0,\n",
    "    machine = machine_classic(),\n",
    "    shaft = shaft_damping(),\n",
    "    avr = avr_none(),\n",
    "    prime_mover = tg_none(),\n",
    "    pss = pss_none(),\n",
    ")"
   ]
  },
  {
   "cell_type": "code",
   "execution_count": 11,
   "id": "1cb3eee0",
   "metadata": {},
   "outputs": [
    {
     "name": "stderr",
     "output_type": "stream",
     "text": [
      "┌ Warning: struct DynamicGenerator does not exist in validation configuration file, validation skipped\n",
      "└ @ InfrastructureSystems C:\\Users\\ALIENWARE\\.julia\\packages\\InfrastructureSystems\\bCJWE\\src\\validation.jl:51\n"
     ]
    }
   ],
   "source": [
    "add_component!(omib_sys, dyn_gen, static_gen)"
   ]
  },
  {
   "cell_type": "code",
   "execution_count": 12,
   "id": "39bc85a2",
   "metadata": {},
   "outputs": [
    {
     "name": "stderr",
     "output_type": "stream",
     "text": [
      "┌ Info: Serialized System to omib_sys.json\n",
      "└ @ PowerSystems C:\\Users\\ALIENWARE\\.julia\\packages\\PowerSystems\\QT2dm\\src\\base.jl:279\n"
     ]
    }
   ],
   "source": [
    "to_json(omib_sys, \"omib_sys.json\", force = true)"
   ]
  },
  {
   "cell_type": "code",
   "execution_count": 13,
   "id": "a1111be7",
   "metadata": {},
   "outputs": [
    {
     "name": "stderr",
     "output_type": "stream",
     "text": [
      "┌ Info: The PSS(R)E parser currently supports buses, loads, shunts, generators, branches, transformers, and dc lines\n",
      "└ @ PowerSystems C:\\Users\\ALIENWARE\\.julia\\packages\\PowerSystems\\QT2dm\\src\\parsers\\pm_io\\common.jl:25\n",
      "┌ Info: The PSS(R)E parser currently supports buses, loads, shunts, generators, branches, transformers, and dc lines\n",
      "└ @ PowerSystems C:\\Users\\ALIENWARE\\.julia\\packages\\PowerSystems\\QT2dm\\src\\parsers\\pm_io\\psse.jl:1063\n",
      "┌ Info: angmin and angmax values are 0, widening these values on branch 1 to +/- 60.0 deg.\n",
      "└ @ PowerSystems C:\\Users\\ALIENWARE\\.julia\\packages\\PowerSystems\\QT2dm\\src\\parsers\\pm_io\\data.jl:1077\n",
      "┌ Info: angmin and angmax values are 0, widening these values on branch 2 to +/- 60.0 deg.\n",
      "└ @ PowerSystems C:\\Users\\ALIENWARE\\.julia\\packages\\PowerSystems\\QT2dm\\src\\parsers\\pm_io\\data.jl:1077\n",
      "┌ Info: angmin and angmax values are 0, widening these values on branch 3 to +/- 60.0 deg.\n",
      "└ @ PowerSystems C:\\Users\\ALIENWARE\\.julia\\packages\\PowerSystems\\QT2dm\\src\\parsers\\pm_io\\data.jl:1077\n",
      "┌ Info: Constructing System from Power Models\n",
      "│   data[\"name\"] = threebusinverter\n",
      "│   data[\"source_type\"] = pti\n",
      "└ @ PowerSystems C:\\Users\\ALIENWARE\\.julia\\packages\\PowerSystems\\QT2dm\\src\\parsers\\power_models_data.jl:52\n",
      "┌ Info: Reading bus data\n",
      "└ @ PowerSystems C:\\Users\\ALIENWARE\\.julia\\packages\\PowerSystems\\QT2dm\\src\\parsers\\power_models_data.jl:183\n",
      "┌ Info: Reading generator data\n",
      "└ @ PowerSystems C:\\Users\\ALIENWARE\\.julia\\packages\\PowerSystems\\QT2dm\\src\\parsers\\power_models_data.jl:497\n",
      "┌ Info: Reading branch data\n",
      "└ @ PowerSystems C:\\Users\\ALIENWARE\\.julia\\packages\\PowerSystems\\QT2dm\\src\\parsers\\power_models_data.jl:641\n",
      "┌ Info: Reading branch data\n",
      "└ @ PowerSystems C:\\Users\\ALIENWARE\\.julia\\packages\\PowerSystems\\QT2dm\\src\\parsers\\power_models_data.jl:702\n",
      "┌ Info: Reading DC Line data\n",
      "└ @ PowerSystems C:\\Users\\ALIENWARE\\.julia\\packages\\PowerSystems\\QT2dm\\src\\parsers\\power_models_data.jl:674\n",
      "┌ Info: Reading storage data\n",
      "└ @ PowerSystems C:\\Users\\ALIENWARE\\.julia\\packages\\PowerSystems\\QT2dm\\src\\parsers\\power_models_data.jl:721\n"
     ]
    }
   ],
   "source": [
    "sys_file_dir = joinpath(file_dir, \"ThreeBusInverter.raw\")\n",
    "threebus_sys = System(sys_file_dir)\n",
    "slack_bus = [b for b in get_components(Bus, threebus_sys) if b.bustype == BusTypes.REF][1]\n",
    "inf_source = Source(\n",
    "    name = \"InfBus\", #name\n",
    "    available = true, #availability\n",
    "    active_power = 0.0,\n",
    "    reactive_power = 0.0,\n",
    "    bus = slack_bus, #bus\n",
    "    R_th = 0.0, #Rth\n",
    "    X_th = 5e-6, #Xth\n",
    ")\n",
    "add_component!(threebus_sys, inf_source)"
   ]
  },
  {
   "cell_type": "code",
   "execution_count": 14,
   "id": "61a60cbd",
   "metadata": {},
   "outputs": [
    {
     "data": {
      "text/plain": [
       "filt (generic function with 1 method)"
      ]
     },
     "execution_count": 14,
     "metadata": {},
     "output_type": "execute_result"
    }
   ],
   "source": [
    "#Define converter as an AverageConverter\n",
    "converter_high_power() = AverageConverter(rated_voltage = 138.0, rated_current = 100.0)\n",
    "\n",
    "#Define Outer Control as a composition of Virtual Inertia + Reactive Power Droop\n",
    "outer_control() = OuterControl(\n",
    "    VirtualInertia(Ta = 2.0, kd = 400.0, kω = 20.0),\n",
    "    ReactivePowerDroop(kq = 0.2, ωf = 1000.0),\n",
    ")\n",
    "\n",
    "#Define an Inner Control as a Voltage+Current Controler with Virtual Impedance:\n",
    "inner_control() = CurrentControl(\n",
    "    kpv = 0.59,     #Voltage controller proportional gain\n",
    "    kiv = 736.0,    #Voltage controller integral gain\n",
    "    kffv = 0.0,     #Binary variable enabling the voltage feed-forward in output of current controllers\n",
    "    rv = 0.0,       #Virtual resistance in pu\n",
    "    lv = 0.2,       #Virtual inductance in pu\n",
    "    kpc = 1.27,     #Current controller proportional gain\n",
    "    kic = 14.3,     #Current controller integral gain\n",
    "    kffi = 0.0,     #Binary variable enabling the current feed-forward in output of current controllers\n",
    "    ωad = 50.0,     #Active damping low pass filter cut-off frequency\n",
    "    kad = 0.2,      #Active damping gain\n",
    ")\n",
    "\n",
    "#Define DC Source as a FixedSource:\n",
    "dc_source_lv() = FixedDCSource(voltage = 600.0)\n",
    "\n",
    "#Define a Frequency Estimator as a PLL based on Vikram Kaura and Vladimir Blaskoc 1997 paper:\n",
    "pll() = KauraPLL(\n",
    "    ω_lp = 500.0, #Cut-off frequency for LowPass filter of PLL filter.\n",
    "    kp_pll = 0.084,  #PLL proportional gain\n",
    "    ki_pll = 4.69,   #PLL integral gain\n",
    ")\n",
    "\n",
    "#Define an LCL filter:\n",
    "filt() = LCLFilter(lf = 0.08, rf = 0.003, cf = 0.074, lg = 0.2, rg = 0.01)"
   ]
  },
  {
   "cell_type": "code",
   "execution_count": 15,
   "id": "f990c42e",
   "metadata": {},
   "outputs": [
    {
     "data": {
      "text/plain": [
       "machine_oneDoneQ (generic function with 1 method)"
      ]
     },
     "execution_count": 15,
     "metadata": {},
     "output_type": "execute_result"
    }
   ],
   "source": [
    "machine_oneDoneQ() = OneDOneQMachine(\n",
    "    0.0, #R\n",
    "    1.3125, #Xd\n",
    "    1.2578, #Xq\n",
    "    0.1813, #Xd_p\n",
    "    0.25, #Xq_p\n",
    "    5.89, #Td0_p\n",
    "    0.6, #Tq0_p\n",
    ")"
   ]
  },
  {
   "cell_type": "code",
   "execution_count": 16,
   "id": "f7e4d82b",
   "metadata": {},
   "outputs": [
    {
     "data": {
      "text/plain": [
       "shaft_no_damping (generic function with 1 method)"
      ]
     },
     "execution_count": 16,
     "metadata": {},
     "output_type": "execute_result"
    }
   ],
   "source": [
    "shaft_no_damping() = SingleMass(\n",
    "    3.01, #H (M = 6.02 -> H = M/2)\n",
    "    0.0, #D\n",
    ")"
   ]
  },
  {
   "cell_type": "code",
   "execution_count": 17,
   "id": "e9ca8032",
   "metadata": {},
   "outputs": [
    {
     "data": {
      "text/plain": [
       "pss_none (generic function with 1 method)"
      ]
     },
     "execution_count": 17,
     "metadata": {},
     "output_type": "execute_result"
    }
   ],
   "source": [
    "avr_type1() = AVRTypeI(\n",
    "    20.0, #Ka - Gain\n",
    "    0.01, #Ke\n",
    "    0.063, #Kf\n",
    "    0.2, #Ta\n",
    "    0.314, #Te\n",
    "    0.35, #Tf\n",
    "    0.001, #Tr\n",
    "    (min = -5.0, max = 5.0),\n",
    "    0.0039, #Ae - 1st ceiling coefficient\n",
    "    1.555, #Be - 2nd ceiling coefficient\n",
    ")\n",
    "\n",
    "#No TG\n",
    "tg_none() = TGFixed(1.0) #efficiency\n",
    "\n",
    "#No PSS\n",
    "pss_none() = PSSFixed(0.0) #Vs"
   ]
  },
  {
   "cell_type": "code",
   "execution_count": 18,
   "id": "b0c2dcab",
   "metadata": {},
   "outputs": [
    {
     "name": "stderr",
     "output_type": "stream",
     "text": [
      "┌ Warning: struct DynamicGenerator does not exist in validation configuration file, validation skipped\n",
      "└ @ InfrastructureSystems C:\\Users\\ALIENWARE\\.julia\\packages\\InfrastructureSystems\\bCJWE\\src\\validation.jl:51\n",
      "┌ Warning: struct DynamicInverter does not exist in validation configuration file, validation skipped\n",
      "└ @ InfrastructureSystems C:\\Users\\ALIENWARE\\.julia\\packages\\InfrastructureSystems\\bCJWE\\src\\validation.jl:51\n"
     ]
    }
   ],
   "source": [
    "for g in get_components(Generator, threebus_sys)\n",
    "    #Find the generator at bus 102\n",
    "    if get_number(get_bus(g)) == 102\n",
    "        #Create the dynamic generator\n",
    "        case_gen = DynamicGenerator(\n",
    "            get_name(g),\n",
    "            1.0, # ω_ref,\n",
    "            machine_oneDoneQ(), #machine\n",
    "            shaft_no_damping(), #shaft\n",
    "            avr_type1(), #avr\n",
    "            tg_none(), #tg\n",
    "            pss_none(), #pss\n",
    "        )\n",
    "        #Attach the dynamic generator to the system by specifying the dynamic and static part\n",
    "        add_component!(threebus_sys, case_gen, g)\n",
    "        #Find the generator at bus 103\n",
    "    elseif get_number(get_bus(g)) == 103\n",
    "        #Create the dynamic inverter\n",
    "        case_inv = DynamicInverter(\n",
    "            get_name(g),\n",
    "            1.0, # ω_ref,\n",
    "            converter_high_power(), #converter\n",
    "            outer_control(), #outer control\n",
    "            inner_control(), #inner control voltage source\n",
    "            dc_source_lv(), #dc source\n",
    "            pll(), #pll\n",
    "            filt(), #filter\n",
    "        )\n",
    "        #Attach the dynamic inverter to the system\n",
    "        add_component!(threebus_sys, case_inv, g)\n",
    "    end\n",
    "end"
   ]
  },
  {
   "cell_type": "code",
   "execution_count": 19,
   "id": "3a4df562",
   "metadata": {},
   "outputs": [
    {
     "name": "stderr",
     "output_type": "stream",
     "text": [
      "┌ Info: Serialized System to threebus_sys.json\n",
      "└ @ PowerSystems C:\\Users\\ALIENWARE\\.julia\\packages\\PowerSystems\\QT2dm\\src\\base.jl:279\n"
     ]
    }
   ],
   "source": [
    "to_json(threebus_sys, \"threebus_sys.json\", force = true)"
   ]
  },
  {
   "cell_type": "code",
   "execution_count": null,
   "id": "ef6ae58e",
   "metadata": {},
   "outputs": [],
   "source": []
  }
 ],
 "metadata": {
  "kernelspec": {
   "display_name": "Julia 1.8.2",
   "language": "julia",
   "name": "julia-1.8"
  },
  "language_info": {
   "file_extension": ".jl",
   "mimetype": "application/julia",
   "name": "julia",
   "version": "1.8.2"
  }
 },
 "nbformat": 4,
 "nbformat_minor": 5
}
